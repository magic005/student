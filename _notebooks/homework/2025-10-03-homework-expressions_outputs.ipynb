{
 "cells": [
  {
   "cell_type": "raw",
   "metadata": {
    "vscode": {
     "languageId": "raw"
    }
   },
   "source": [
    "---\n",
    "layout: post\n",
    "toc: true\n",
    "title: Unit 1.3 HW - Expressions and Output\n",
    "permalink: /csa/unit_01/expressions_output_hw\n",
    "---"
   ]
  },
  {
   "cell_type": "markdown",
   "metadata": {},
   "source": [
    "## Unit 1.3 Homework: Expressions and Output\n",
    "\n",
    "This notebook contains my solutions to the popcorn hacks and homework assignments from the Expressions and Output lesson.\n",
    "\n",
    "## Popcorn Hack #1: Key Formatting Tools\n",
    "\n",
    "### Formatting Tools I Can Recall:\n",
    "\n",
    "1. **`\\n`** - Creates a new line (line break)\n",
    "2. **`\\t`** - Creates a tab space (indentation)\n",
    "3. **`\\\"`** - Allows printing a double quote character\n",
    "4. **`\\\\`** - Allows printing a backslash character\n",
    "5. **`System.out.println()`** - Prints text and moves to next line\n",
    "6. **`System.out.print()`** - Prints text without moving to next line\n",
    "7. **`System.out.printf()`** - Prints with formatted output (like %.2f for decimals)\n",
    "8. **`+`** - String concatenation operator\n",
    "\n",
    "### Example Using Multiple Tools:"
   ]
  },
  {
   "cell_type": "code",
   "execution_count": 2,
   "metadata": {
    "vscode": {
     "languageId": "java"
    }
   },
   "outputs": [
    {
     "name": "stdout",
     "output_type": "stream",
     "text": [
      "Student Report:\n",
      "\n",
      "Name:\tJohn Doe\n",
      "Grade:\t87.66666666666667\n",
      "Teacher said: \"Excellent work!\"\n",
      "File path: C:\\School\\Homework\n",
      "\n",
      "Final Average: 87.67%\n"
     ]
    }
   ],
   "source": [
    "public class FormattingDemo {\n",
    "    public static void main(String[] args) {\n",
    "        // Using multiple formatting tools in one example\n",
    "        System.out.println(\"Student Report:\\n\");\n",
    "        System.out.println(\"Name:\\tJohn Doe\");\n",
    "        System.out.println(\"Grade:\\t\" + (85 + 90 + 88) / 3.0);\n",
    "        System.out.println(\"Teacher said: \\\"Excellent work!\\\"\");\n",
    "        System.out.println(\"File path: C:\\\\School\\\\Homework\");\n",
    "        System.out.printf(\"\\nFinal Average: %.2f%%%n\", 87.67);\n",
    "    }\n",
    "}\n",
    "\n",
    "FormattingDemo.main(null);"
   ]
  },
  {
   "cell_type": "markdown",
   "metadata": {},
   "source": [
    "**Tools used in the example:**\n",
    "- `\\n` for line breaks\n",
    "- `\\t` for tab spacing\n",
    "- `\\\"` for quotes\n",
    "- `\\\\` for backslash in file path\n",
    "- `+` for concatenation\n",
    "- `printf` with `%.2f` for decimal formatting\n",
    "- Arithmetic expression `(85 + 90 + 88) / 3.0`"
   ]
  },
  {
   "cell_type": "markdown",
   "metadata": {},
   "source": [
    "## Popcorn Hack #2: Menu.java Formatting Analysis\n",
    "\n",
    "### Formatting Tools Used in Menu.java:\n",
    "\n",
    "1. **`System.out.println()`**\n",
    "   - Purpose: Prints each menu option on its own line\n",
    "   - Makes output cleaner by organizing options vertically\n",
    "\n",
    "2. **`System.out.print()`**\n",
    "   - Purpose: Prints \"Choose an option: \" without moving to next line\n",
    "   - Keeps user input on the same line as the prompt\n",
    "\n",
    "3. **String Literals with `+` Concatenation**\n",
    "   - Purpose: Combines text with variable values dynamically\n",
    "   - Example: `\"You selected option: \" + choice`\n",
    "\n",
    "4. **Numbered Menu Items**\n",
    "   - Purpose: Creates clear, easy-to-follow choices\n",
    "   - Users know exactly what number to enter\n",
    "\n",
    "### How They Improve Output:\n",
    "- **Organization**: Each option is on its own line, making the menu easy to scan\n",
    "- **User Experience**: The prompt stays on the same line where they type\n",
    "- **Clarity**: Numbers make selection unambiguous\n",
    "- **Dynamic Content**: Concatenation shows the actual choice made and option count"
   ]
  },
  {
   "cell_type": "markdown",
   "metadata": {},
   "source": [
    "## Homework Hack #1\n",
    "\n",
    "### Part 1: Predict Output"
   ]
  },
  {
   "cell_type": "code",
   "execution_count": 3,
   "metadata": {
    "vscode": {
     "languageId": "java"
    }
   },
   "outputs": [
    {
     "name": "stdout",
     "output_type": "stream",
     "text": [
      "AP CSA\n",
      "Rocks!\n"
     ]
    }
   ],
   "source": [
    "public class PredictOutput {\n",
    "    public static void main(String[] args) {\n",
    "        // Given code:\n",
    "        System.out.print(\"AP \");\n",
    "        System.out.println(\"CSA\");\n",
    "        System.out.println(\"Rocks!\");\n",
    "    }\n",
    "}\n",
    "\n",
    "PredictOutput.main(null);"
   ]
  },
  {
   "cell_type": "markdown",
   "metadata": {},
   "source": [
    "**My Prediction:**\n",
    "```\n",
    "AP CSA\n",
    "Rocks!\n",
    "```\n",
    "\n",
    "**Explanation:**\n",
    "- `System.out.print(\"AP \")` prints \"AP \" and stays on the same line\n",
    "- `System.out.println(\"CSA\")` prints \"CSA\" on the same line, then moves to new line\n",
    "- `System.out.println(\"Rocks!\")` prints \"Rocks!\" on a new line"
   ]
  },
  {
   "cell_type": "markdown",
   "metadata": {},
   "source": [
    "### Part 2: Fix the Bug"
   ]
  },
  {
   "cell_type": "code",
   "execution_count": 4,
   "metadata": {
    "vscode": {
     "languageId": "java"
    }
   },
   "outputs": [
    {
     "name": "stdout",
     "output_type": "stream",
     "text": [
      "C:\\Users\\Student\n"
     ]
    }
   ],
   "source": [
    "public class FixBug {\n",
    "    public static void main(String[] args) {\n",
    "        // Original (broken) code:\n",
    "        // System.out.println(\"C:\\Users\\Student\");\n",
    "        \n",
    "        // Fixed code:\n",
    "        System.out.println(\"C:\\\\Users\\\\Student\");\n",
    "    }\n",
    "}\n",
    "\n",
    "FixBug.main(null);"
   ]
  },
  {
   "cell_type": "markdown",
   "metadata": {},
   "source": [
    "**Bug Explanation:**\n",
    "- The original code tries to use `\\U` and `\\S` which are invalid escape sequences\n",
    "- In Java, backslash `\\` is a special character that starts escape sequences\n",
    "- To print a literal backslash, we need to escape it with another backslash: `\\\\`\n",
    "- **Solution:** Replace each single backslash with double backslash `\\\\`\n",
    "\n",
    "### Part 3: Menu Hack - Add 4th Option"
   ]
  },
  {
   "cell_type": "code",
   "execution_count": 5,
   "metadata": {
    "vscode": {
     "languageId": "java"
    }
   },
   "outputs": [
    {
     "name": "stdout",
     "output_type": "stream",
     "text": [
      "Menu updated with Settings option!\n"
     ]
    }
   ],
   "source": [
    "import java.util.Scanner;\n",
    "\n",
    "public class EnhancedMenu {\n",
    "    public static void main(String[] args) {\n",
    "        Scanner sc = new Scanner(System.in);\n",
    "\n",
    "        System.out.println(\"==== Main Menu ====\");\n",
    "        System.out.println(\"1. Start Game\");\n",
    "        System.out.println(\"2. Instructions\");\n",
    "        System.out.println(\"3. Exit\");\n",
    "        System.out.println(\"4. Settings\");  // NEW: Added 4th option\n",
    "\n",
    "        System.out.print(\"Choose an option: \");\n",
    "        int choice = sc.nextInt();\n",
    "\n",
    "        System.out.println(\"You selected option: \" + choice);\n",
    "\n",
    "        int optionCount = 4;  // UPDATED: Changed from 3 to 4\n",
    "        System.out.println(\"There are \" + optionCount + \" total options.\");\n",
    "        \n",
    "        sc.close();\n",
    "    }\n",
    "}\n",
    "\n",
    "// EnhancedMenu.main(null);  // Uncomment to run with input\n",
    "System.out.println(\"Menu updated with Settings option!\");"
   ]
  },
  {
   "cell_type": "markdown",
   "metadata": {},
   "source": [
    "### Part 4: Challenge - Printf with Pi"
   ]
  },
  {
   "cell_type": "code",
   "execution_count": 6,
   "metadata": {
    "vscode": {
     "languageId": "java"
    }
   },
   "outputs": [
    {
     "name": "stdout",
     "output_type": "stream",
     "text": [
      "Pi = 3.14\n",
      "\n",
      "Bonus - Different Precisions:\n",
      "Pi (1 decimal):  3.1\n",
      "Pi (2 decimals): 3.14\n",
      "Pi (3 decimals): 3.142\n",
      "Pi (5 decimals): 3.14159\n"
     ]
    }
   ],
   "source": [
    "public class PiPrinter {\n",
    "    public static void main(String[] args) {\n",
    "        // Print pi with 2 decimal places\n",
    "        System.out.printf(\"Pi = %.2f%n\", Math.PI);\n",
    "        \n",
    "        // Bonus: Show multiple decimal precisions\n",
    "        System.out.println(\"\\nBonus - Different Precisions:\");\n",
    "        System.out.printf(\"Pi (1 decimal):  %.1f%n\", Math.PI);\n",
    "        System.out.printf(\"Pi (2 decimals): %.2f%n\", Math.PI);\n",
    "        System.out.printf(\"Pi (3 decimals): %.3f%n\", Math.PI);\n",
    "        System.out.printf(\"Pi (5 decimals): %.5f%n\", Math.PI);\n",
    "    }\n",
    "}\n",
    "\n",
    "PiPrinter.main(null);"
   ]
  },
  {
   "cell_type": "markdown",
   "metadata": {},
   "source": [
    "**Printf Explanation:**\n",
    "- `%.2f` means \"format as floating-point with 2 decimal places\"\n",
    "- `%n` is a platform-independent newline\n",
    "- `Math.PI` is a constant that holds the value of π"
   ]
  },
  {
   "cell_type": "markdown",
   "metadata": {},
   "source": [
    "## Homework Hack #2: Calculator Menu\n",
    "\n",
    "Expanding Menu.java into a full calculator with arithmetic operations:"
   ]
  },
  {
   "cell_type": "code",
   "execution_count": 7,
   "metadata": {
    "vscode": {
     "languageId": "java"
    }
   },
   "outputs": [
    {
     "name": "stdout",
     "output_type": "stream",
     "text": [
      "Calculator Menu Example:\n",
      "==== Calculator Menu ====\n",
      "1. Add\n",
      "2. Subtract\n",
      "3. Multiply\n",
      "4. Divide\n",
      "\n",
      "Example: Option 1 selected\n",
      "First number: 10\n",
      "Second number: 5\n",
      "\n",
      "Addition Result: 15\n"
     ]
    }
   ],
   "source": [
    "import java.util.Scanner;\n",
    "\n",
    "public class CalculatorMenu {\n",
    "    public static void main(String[] args) {\n",
    "        Scanner sc = new Scanner(System.in);\n",
    "        \n",
    "        // Display calculator menu\n",
    "        System.out.println(\"==== Calculator Menu ====\");\n",
    "        System.out.println(\"1. Add\");\n",
    "        System.out.println(\"2. Subtract\");\n",
    "        System.out.println(\"3. Multiply\");\n",
    "        System.out.println(\"4. Divide\");\n",
    "        \n",
    "        // Get user's operation choice\n",
    "        System.out.print(\"Choose an option: \");\n",
    "        int choice = sc.nextInt();\n",
    "        \n",
    "        // Get two numbers from user\n",
    "        System.out.print(\"Enter first number: \");\n",
    "        double num1 = sc.nextDouble();\n",
    "        \n",
    "        System.out.print(\"Enter second number: \");\n",
    "        double num2 = sc.nextDouble();\n",
    "        \n",
    "        // Calculate and display result based on choice\n",
    "        double result = 0;\n",
    "        String operation = \"\";\n",
    "        \n",
    "        if (choice == 1) {\n",
    "            result = num1 + num2;\n",
    "            operation = \"Addition\";\n",
    "        } else if (choice == 2) {\n",
    "            result = num1 - num2;\n",
    "            operation = \"Subtraction\";\n",
    "        } else if (choice == 3) {\n",
    "            result = num1 * num2;\n",
    "            operation = \"Multiplication\";\n",
    "        } else if (choice == 4) {\n",
    "            if (num2 != 0) {\n",
    "                result = num1 / num2;\n",
    "                operation = \"Division\";\n",
    "            } else {\n",
    "                System.out.println(\"Error: Cannot divide by zero!\");\n",
    "                sc.close();\n",
    "                return;\n",
    "            }\n",
    "        } else {\n",
    "            System.out.println(\"Invalid choice!\");\n",
    "            sc.close();\n",
    "            return;\n",
    "        }\n",
    "        \n",
    "        // Display result\n",
    "        System.out.println(\"\\n\" + operation + \" Result: \" + result);\n",
    "        \n",
    "        sc.close();\n",
    "    }\n",
    "}\n",
    "\n",
    "// Example demonstration without user input\n",
    "System.out.println(\"Calculator Menu Example:\");\n",
    "System.out.println(\"==== Calculator Menu ====\");\n",
    "System.out.println(\"1. Add\");\n",
    "System.out.println(\"2. Subtract\");\n",
    "System.out.println(\"3. Multiply\");\n",
    "System.out.println(\"4. Divide\");\n",
    "System.out.println(\"\\nExample: Option 1 selected\");\n",
    "System.out.println(\"First number: 10\");\n",
    "System.out.println(\"Second number: 5\");\n",
    "System.out.println(\"\\nAddition Result: \" + (10 + 5));"
   ]
  },
  {
   "cell_type": "markdown",
   "metadata": {},
   "source": [
    "### Enhanced Calculator with All Operations Demo"
   ]
  },
  {
   "cell_type": "code",
   "execution_count": 8,
   "metadata": {
    "vscode": {
     "languageId": "java"
    }
   },
   "outputs": [
    {
     "name": "stdout",
     "output_type": "stream",
     "text": [
      "==== Calculator Operations Demo ====\n",
      "Number 1: 20.0\n",
      "Number 2: 4.0\n",
      "\n",
      "===================================\n",
      "1. Addition:\n",
      "   20.0 + 4.0 = 24.0\n",
      "\n",
      "2. Subtraction:\n",
      "   20.0 - 4.0 = 16.0\n",
      "\n",
      "3. Multiplication:\n",
      "   20.0 × 4.0 = 80.0\n",
      "\n",
      "4. Division:\n",
      "   20.0 ÷ 4.0 = 5.0\n",
      "\n",
      "===================================\n",
      "\n",
      "Bonus - Modulus (Remainder):\n",
      "   17 % 5 = 2\n"
     ]
    }
   ],
   "source": [
    "public class CalculatorDemo {\n",
    "    public static void main(String[] args) {\n",
    "        // Demo showing all calculator operations\n",
    "        double num1 = 20.0;\n",
    "        double num2 = 4.0;\n",
    "        \n",
    "        System.out.println(\"==== Calculator Operations Demo ====\");\n",
    "        System.out.println(\"Number 1: \" + num1);\n",
    "        System.out.println(\"Number 2: \" + num2);\n",
    "        System.out.println(\"\\n\" + \"=\".repeat(35));\n",
    "        \n",
    "        // Addition\n",
    "        System.out.println(\"1. Addition:\");\n",
    "        System.out.printf(\"   %.1f + %.1f = %.1f%n\", num1, num2, num1 + num2);\n",
    "        \n",
    "        // Subtraction\n",
    "        System.out.println(\"\\n2. Subtraction:\");\n",
    "        System.out.printf(\"   %.1f - %.1f = %.1f%n\", num1, num2, num1 - num2);\n",
    "        \n",
    "        // Multiplication\n",
    "        System.out.println(\"\\n3. Multiplication:\");\n",
    "        System.out.printf(\"   %.1f × %.1f = %.1f%n\", num1, num2, num1 * num2);\n",
    "        \n",
    "        // Division\n",
    "        System.out.println(\"\\n4. Division:\");\n",
    "        System.out.printf(\"   %.1f ÷ %.1f = %.1f%n\", num1, num2, num1 / num2);\n",
    "        \n",
    "        System.out.println(\"\\n\" + \"=\".repeat(35));\n",
    "        \n",
    "        // Bonus: Modulus operation\n",
    "        System.out.println(\"\\nBonus - Modulus (Remainder):\");\n",
    "        int a = 17;\n",
    "        int b = 5;\n",
    "        System.out.printf(\"   %d %% %d = %d%n\", a, b, a % b);\n",
    "    }\n",
    "}\n",
    "\n",
    "CalculatorDemo.main(null);"
   ]
  },
  {
   "cell_type": "markdown",
   "metadata": {},
   "source": [
    "**Key Features of Calculator:**\n",
    "- Menu-driven interface\n",
    "- All four basic operations (+, -, ×, ÷)\n",
    "- Division by zero error handling\n",
    "- User input validation\n",
    "- Formatted output using printf\n",
    "- Clear result display"
   ]
  },
  {
   "cell_type": "markdown",
   "metadata": {},
   "source": [
    "## Homework Hack #3: Game\n",
    "\n",
    "I will complete the interactive game to test my understanding of Unit 1.3 and 1.4 concepts. The game score screenshot will be submitted through the Google Form along with this homework.\n",
    "\n",
    "**Game Link:** [1.3 and 1.4 Game](link provided in lesson)\n",
    "\n",
    "**Note:** Screenshot of completed game will be included in the Google Form submission."
   ]
  },
  {
   "cell_type": "code",
   "execution_count": null,
   "metadata": {
    "vscode": {
     "languageId": "java"
    }
   },
   "outputs": [],
   "source": [
    "## Summary and Key Concepts\n",
    "\n",
    "### Output Methods Mastered:\n",
    "1. **`System.out.print()`** - No newline\n",
    "2. **`System.out.println()`** - With newline\n",
    "3. **`System.out.printf()`** - Formatted output\n",
    "\n",
    "### Escape Sequences Used:\n",
    "- `\\n` - New line\n",
    "- `\\t` - Tab\n",
    "- `\\\"` - Double quote\n",
    "- `\\\\` - Backslash\n",
    "\n",
    "### Arithmetic Expressions:\n",
    "- Addition (`+`), Subtraction (`-`), Multiplication (`*`)\n",
    "- Division (`/`) - Integer vs. floating-point\n",
    "- Modulus (`%`) - Remainder operation\n",
    "- Order of operations (PEMDAS)\n",
    "\n",
    "### Real-World Applications:\n",
    "- Menu systems for user interaction\n",
    "- Calculator programs\n",
    "- Formatted reports and displays\n",
    "- Error handling and validation\n",
    "\n",
    "### Best Practices Demonstrated:\n",
    "Clear, organized output formatting\n",
    "Proper use of escape sequences\n",
    "Meaningful variable names\n",
    "Input validation and error checking\n",
    "User-friendly prompts and messages\n",
    "Appropriate use of data types (int vs. double)"
   ]
  }
 ],
 "metadata": {
  "kernelspec": {
   "display_name": "Java",
   "language": "java",
   "name": "java"
  },
  "language_info": {
   "codemirror_mode": "java",
   "file_extension": ".jshell",
   "mimetype": "text/x-java-source",
   "name": "Java",
   "pygments_lexer": "java",
   "version": "17.0.16+0"
  }
 },
 "nbformat": 4,
 "nbformat_minor": 2
}

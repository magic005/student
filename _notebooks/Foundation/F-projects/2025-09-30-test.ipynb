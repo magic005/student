{
 "cells": [
  {
   "cell_type": "raw",
   "metadata": {
    "vscode": {
     "languageId": "raw"
    }
   },
   "source": [
    "---\n",
    "layout: post\n",
    "title: Javascript Project Playground\n",
    "description: Build a simple project with Javascript \n",
    "categories: [JavaScript]\n",
    "courses: { csp: {week: 3}, csa: {week: 0} }\n",
    "type: ccc\n",
    "permalink: /javascript/project/play\n",
    "menu: nav/javascript_project.html\n",
    "toc: true\n",
    "comments: true\n",
    "---"
   ]
  },
  {
   "cell_type": "code",
   "execution_count": null,
   "metadata": {
    "vscode": {
     "languageId": "java"
    }
   },
   "outputs": [],
   "source": [
    "System.out.println(\"Hello from Java!\");\n",
    "\n",
    "for (int i = 1; i <= 5; i++) {\n",
    "    System.out.println(i + \" -> \" + (i*i));\n",
    "}\n",
    "\n",
    "record Pair(int a, int b) {}\n",
    "var pairs = java.util.stream.IntStream.rangeClosed(1, 5)\n",
    "    .mapToObj(i -> new Pair(i, i*i))\n",
    "    .toList();\n",
    "System.out.println(pairs);"
   ]
  }
 ],
 "metadata": {
  "language_info": {
   "name": "python"
  }
 },
 "nbformat": 4,
 "nbformat_minor": 2
}
